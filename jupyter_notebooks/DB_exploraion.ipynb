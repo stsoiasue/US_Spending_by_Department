{
 "cells": [
  {
   "cell_type": "code",
   "execution_count": 1,
   "metadata": {},
   "outputs": [],
   "source": [
    "# Python SQL toolkit and Object Relational Mapper\n",
    "from sqlalchemy.ext.declarative import declarative_base\n",
    "from sqlalchemy import Column, Integer, String, Float\n",
    "from sqlalchemy.orm import Session\n",
    "from sqlalchemy import create_engine\n",
    "import os "
   ]
  },
  {
   "cell_type": "code",
   "execution_count": 2,
   "metadata": {},
   "outputs": [],
   "source": [
    "# sqlite_db_path = os.path.join('app','non-static','us_data.sqlite')\n",
    "sqlite_db_path = os.path.join('app','non-static','data.sqlite')\n",
    "\n",
    "# Create engine using the `gov_awards.sqlite` database file\n",
    "engine = create_engine(f'sqlite:///{sqlite_db_path}')"
   ]
  },
  {
   "cell_type": "code",
   "execution_count": 3,
   "metadata": {},
   "outputs": [],
   "source": [
    "# Declare a Base using `automap_base()`\n",
    "Base = declarative_base()"
   ]
  },
  {
   "cell_type": "code",
   "execution_count": 4,
   "metadata": {},
   "outputs": [],
   "source": [
    "# establish Contracts class\n",
    "class Contract(Base):\n",
    "    __tablename__ = 'lat_lon'\n",
    "    index = Column(Integer, primary_key=True)\n",
    "    Awarding_Agency = Column(String(255))\n",
    "    Subtier_Agency = Column(String(255))\n",
    "    Subtier_Code = Column(String(255))\n",
    "    Category = Column(String(255))\n",
    "    POP_City = Column(String(255))\n",
    "    POP_State = Column(String(255))\n",
    "    POP_Zip = Column(String(255))\n",
    "    Recipient_Name = Column(String(255))\n",
    "    Total_Obligation = Column(String(255))\n",
    "    Latitude = Column(Float)\n",
    "    Longitude = Column(Float)\n",
    "    Description = Column(String(255))\n",
    "    Contract_ID = Column(String(255))\n",
    "\n",
    "# establish Top class\n",
    "class Top(Base):\n",
    "    __tablename__ = 'top_ten'\n",
    "    index = Column(Integer, primary_key=True)\n",
    "    Awarding_Agency = Column(String(255))\n",
    "    Subtier_Agency = Column(String(255))\n",
    "    Subtier_Code = Column(String(255))\n",
    "    Category = Column(String(255))\n",
    "    POP_City = Column(String(255))\n",
    "    POP_State = Column(String(255))\n",
    "    POP_Zip = Column(String(255))\n",
    "    Recipient_Name = Column(String(255))\n",
    "    Total_Obligation = Column(String(255))\n",
    "    Latitude = Column(Float)\n",
    "    Longitude = Column(Float)\n",
    "    Description = Column(String(255))\n",
    "    Contract_ID = Column(String(255))"
   ]
  },
  {
   "cell_type": "code",
   "execution_count": 5,
   "metadata": {},
   "outputs": [],
   "source": [
    "# Create both the Stations and Measurements tables within the database\n",
    "Base.metadata.create_all(engine)\n",
    "\n",
    "# create session object\n",
    "session = Session(bind=engine)"
   ]
  },
  {
   "cell_type": "code",
   "execution_count": 6,
   "metadata": {},
   "outputs": [],
   "source": [
    "All = session.query(Contract).limit(20)"
   ]
  },
  {
   "cell_type": "code",
   "execution_count": null,
   "metadata": {},
   "outputs": [],
   "source": []
  },
  {
   "cell_type": "code",
   "execution_count": 7,
   "metadata": {},
   "outputs": [
    {
     "name": "stdout",
     "output_type": "stream",
     "text": [
      "39.2635174\n",
      "-76.6239423\n",
      "39.2635174\n",
      "-76.6239423\n",
      "28.475040500000002\n",
      "-81.28491690000001\n",
      "35.04403\n",
      "-118.2526623\n",
      "40.776639200000005\n",
      "-73.87425\n",
      "27.791959000000002\n",
      "-82.723924\n",
      "35.378708\n",
      "-97.6439611\n",
      "33.7372177\n",
      "-117.81355790000002\n",
      "35.378708\n",
      "-97.6439611\n",
      "38.8021891\n",
      "-104.72292790000002\n",
      "40.776639200000005\n",
      "-73.87425\n",
      "34.5659245\n",
      "-112.46490829999999\n",
      "35.378708\n",
      "-97.6439611\n",
      "35.240740100000004\n",
      "-97.4056928\n",
      "35.378708\n",
      "-97.6439611\n",
      "35.378708\n",
      "-97.6439611\n",
      "35.5424793\n",
      "-97.5518056\n",
      "40.776639200000005\n",
      "-73.87425\n",
      "35.471855600000005\n",
      "-97.5057737\n",
      "35.378708\n",
      "-97.6439611\n"
     ]
    }
   ],
   "source": [
    "for contract in All:\n",
    "    print(contract.Latitude)\n",
    "    print(contract.Longitude)"
   ]
  },
  {
   "cell_type": "code",
   "execution_count": 8,
   "metadata": {},
   "outputs": [],
   "source": [
    "Tops = session.query(Top).limit(10)"
   ]
  },
  {
   "cell_type": "code",
   "execution_count": 10,
   "metadata": {},
   "outputs": [
    {
     "name": "stdout",
     "output_type": "stream",
     "text": [
      "36.7471661\n",
      "30.089524100000006\n",
      "46.8667428\n",
      "38.8761083\n",
      "38.8382463\n",
      "38.85656470000001\n",
      "38.8372336\n",
      "38.8735614\n",
      "47.3906134\n",
      "40.414075200000006\n"
     ]
    }
   ],
   "source": [
    "for contract in Tops:\n",
    "    \n",
    "    print(contract.Latitude)"
   ]
  },
  {
   "cell_type": "code",
   "execution_count": null,
   "metadata": {},
   "outputs": [],
   "source": []
  }
 ],
 "metadata": {
  "kernelspec": {
   "display_name": "Python [conda env:PythonData]",
   "language": "python",
   "name": "conda-env-PythonData-py"
  },
  "language_info": {
   "codemirror_mode": {
    "name": "ipython",
    "version": 3
   },
   "file_extension": ".py",
   "mimetype": "text/x-python",
   "name": "python",
   "nbconvert_exporter": "python",
   "pygments_lexer": "ipython3",
   "version": "3.6.4"
  }
 },
 "nbformat": 4,
 "nbformat_minor": 2
}

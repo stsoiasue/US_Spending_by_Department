{
 "cells": [
  {
   "cell_type": "code",
   "execution_count": 1,
   "metadata": {},
   "outputs": [],
   "source": [
    "# Python SQL toolkit and Object Relational Mapper\n",
    "from sqlalchemy.ext.declarative import declarative_base\n",
    "from sqlalchemy import Column, Integer, String, Float\n",
    "from sqlalchemy.orm import Session\n",
    "from sqlalchemy import create_engine\n",
    "import os "
   ]
  },
  {
   "cell_type": "code",
   "execution_count": 2,
   "metadata": {},
   "outputs": [],
   "source": [
    "# sqlite_db_path = os.path.join('app','non-static','us_data.sqlite')\n",
    "sqlite_db_path = os.path.join('app','non-static','end_of_class.sqlite')\n",
    "\n",
    "# Create engine using the `gov_awards.sqlite` database file\n",
    "engine = create_engine(f'sqlite:///{sqlite_db_path}')"
   ]
  },
  {
   "cell_type": "code",
   "execution_count": 3,
   "metadata": {},
   "outputs": [],
   "source": [
    "# Declare a Base using `automap_base()`\n",
    "Base = declarative_base()"
   ]
  },
  {
   "cell_type": "code",
   "execution_count": 4,
   "metadata": {},
   "outputs": [],
   "source": [
    "class Contracts(Base):\n",
    "    __tablename__ = 'department_contracts'\n",
    "    index = Column(Integer, primary_key=True)\n",
    "    Awarding_Agency = Column(String(255))\n",
    "    Subtier_Agency = Column(String(255))\n",
    "    Subtier_Code = Column(String(255))\n",
    "    Category = Column(String(255))\n",
    "    POP_City = Column(String(255))\n",
    "    POP_State = Column(String(255))\n",
    "    POP_Zip = Column(String(255))\n",
    "    Recipient_Name = Column(String(255))\n",
    "    Total_Obligation = Column(String(255))\n",
    "    Latitude = Column(Float)\n",
    "    Longitude = Column(Float)"
   ]
  },
  {
   "cell_type": "code",
   "execution_count": 5,
   "metadata": {},
   "outputs": [],
   "source": [
    "# Create both the Stations and Measurements tables within the database\n",
    "Base.metadata.create_all(engine)\n",
    "\n",
    "# create session object\n",
    "session = Session(bind=engine)"
   ]
  },
  {
   "cell_type": "code",
   "execution_count": 6,
   "metadata": {},
   "outputs": [],
   "source": [
    " = session.query(Contracts).limit(20).all()"
   ]
  },
  {
   "cell_type": "code",
   "execution_count": null,
   "metadata": {},
   "outputs": [],
   "source": []
  },
  {
   "cell_type": "code",
   "execution_count": 7,
   "metadata": {},
   "outputs": [
    {
     "name": "stdout",
     "output_type": "stream",
     "text": [
      "39.2635174\n",
      "-76.6239423\n",
      "39.2635174\n",
      "-76.6239423\n",
      "28.475040500000002\n",
      "-81.28491690000001\n",
      "35.04403\n",
      "-118.2526623\n",
      "40.776639200000005\n",
      "-73.87425\n",
      "27.791959000000002\n",
      "-82.723924\n",
      "35.378708\n",
      "-97.6439611\n",
      "33.7372177\n",
      "-117.81355790000002\n",
      "35.378708\n",
      "-97.6439611\n",
      "38.8021891\n",
      "-104.72292790000002\n",
      "40.776639200000005\n",
      "-73.87425\n",
      "34.5659245\n",
      "-112.46490829999999\n",
      "35.378708\n",
      "-97.6439611\n",
      "35.240740100000004\n",
      "-97.4056928\n",
      "35.378708\n",
      "-97.6439611\n",
      "35.378708\n",
      "-97.6439611\n",
      "35.5424793\n",
      "-97.5518056\n",
      "40.776639200000005\n",
      "-73.87425\n",
      "35.471855600000005\n",
      "-97.5057737\n",
      "35.378708\n",
      "-97.6439611\n"
     ]
    }
   ],
   "source": [
    "for contract in Contracts:\n",
    "    print(contract.Latitude)\n",
    "    print(contract.Longitude)"
   ]
  },
  {
   "cell_type": "code",
   "execution_count": 9,
   "metadata": {},
   "outputs": [
    {
     "ename": "InvalidRequestError",
     "evalue": "SQL expression, column, or mapped entity expected - got '[<__main__.Contracts object at 0x10415bf98>, <__main__.Contracts object at 0x104169048>, <__main__.Contracts object at 0x1041690b8>, <__main__.Contracts object at 0x104169128>, <__main__.Contracts object at 0x104169198>, <__main__.Contracts object at 0x104169208>, <__main__.Contracts object at 0x104169278>, <__main__.Contracts object at 0x1041692e8>, <__main__.Contracts object at 0x104169358>, <__main__.Contracts object at 0x1041693c8>, <__main__.Contracts object at 0x104169470>, <__main__.Contracts object at 0x104169518>, <__main__.Contracts object at 0x1041695c0>, <__main__.Contracts object at 0x104169668>, <__main__.Contracts object at 0x104169710>, <__main__.Contracts object at 0x1041697b8>, <__main__.Contracts object at 0x104169860>, <__main__.Contracts object at 0x104169908>, <__main__.Contracts object at 0x1041699b0>, <__main__.Contracts object at 0x104169a58>]'",
     "output_type": "error",
     "traceback": [
      "\u001b[0;31m---------------------------------------------------------------------------\u001b[0m",
      "\u001b[0;31mInvalidRequestError\u001b[0m                       Traceback (most recent call last)",
      "\u001b[0;32m<ipython-input-9-03fa65f6a860>\u001b[0m in \u001b[0;36m<module>\u001b[0;34m()\u001b[0m\n\u001b[0;32m----> 1\u001b[0;31m \u001b[0mTop\u001b[0m \u001b[0;34m=\u001b[0m \u001b[0msession\u001b[0m\u001b[0;34m.\u001b[0m\u001b[0mquery\u001b[0m\u001b[0;34m(\u001b[0m\u001b[0mContracts\u001b[0m\u001b[0;34m)\u001b[0m\u001b[0;34m.\u001b[0m\u001b[0mlimit\u001b[0m\u001b[0;34m(\u001b[0m\u001b[0;36m10\u001b[0m\u001b[0;34m)\u001b[0m\u001b[0;34m.\u001b[0m\u001b[0mall\u001b[0m\u001b[0;34m(\u001b[0m\u001b[0;34m)\u001b[0m\u001b[0;34m\u001b[0m\u001b[0m\n\u001b[0m",
      "\u001b[0;32m~/anaconda3/envs/PythonData/lib/python3.6/site-packages/sqlalchemy/orm/session.py\u001b[0m in \u001b[0;36mquery\u001b[0;34m(self, *entities, **kwargs)\u001b[0m\n\u001b[1;32m   1397\u001b[0m         :class:`.Session`.\"\"\"\n\u001b[1;32m   1398\u001b[0m \u001b[0;34m\u001b[0m\u001b[0m\n\u001b[0;32m-> 1399\u001b[0;31m         \u001b[0;32mreturn\u001b[0m \u001b[0mself\u001b[0m\u001b[0;34m.\u001b[0m\u001b[0m_query_cls\u001b[0m\u001b[0;34m(\u001b[0m\u001b[0mentities\u001b[0m\u001b[0;34m,\u001b[0m \u001b[0mself\u001b[0m\u001b[0;34m,\u001b[0m \u001b[0;34m**\u001b[0m\u001b[0mkwargs\u001b[0m\u001b[0;34m)\u001b[0m\u001b[0;34m\u001b[0m\u001b[0m\n\u001b[0m\u001b[1;32m   1400\u001b[0m \u001b[0;34m\u001b[0m\u001b[0m\n\u001b[1;32m   1401\u001b[0m     \u001b[0;34m@\u001b[0m\u001b[0mproperty\u001b[0m\u001b[0;34m\u001b[0m\u001b[0m\n",
      "\u001b[0;32m~/anaconda3/envs/PythonData/lib/python3.6/site-packages/sqlalchemy/orm/query.py\u001b[0m in \u001b[0;36m__init__\u001b[0;34m(self, entities, session)\u001b[0m\n\u001b[1;32m    138\u001b[0m         \u001b[0mself\u001b[0m\u001b[0;34m.\u001b[0m\u001b[0msession\u001b[0m \u001b[0;34m=\u001b[0m \u001b[0msession\u001b[0m\u001b[0;34m\u001b[0m\u001b[0m\n\u001b[1;32m    139\u001b[0m         \u001b[0mself\u001b[0m\u001b[0;34m.\u001b[0m\u001b[0m_polymorphic_adapters\u001b[0m \u001b[0;34m=\u001b[0m \u001b[0;34m{\u001b[0m\u001b[0;34m}\u001b[0m\u001b[0;34m\u001b[0m\u001b[0m\n\u001b[0;32m--> 140\u001b[0;31m         \u001b[0mself\u001b[0m\u001b[0;34m.\u001b[0m\u001b[0m_set_entities\u001b[0m\u001b[0;34m(\u001b[0m\u001b[0mentities\u001b[0m\u001b[0;34m)\u001b[0m\u001b[0;34m\u001b[0m\u001b[0m\n\u001b[0m\u001b[1;32m    141\u001b[0m \u001b[0;34m\u001b[0m\u001b[0m\n\u001b[1;32m    142\u001b[0m     \u001b[0;32mdef\u001b[0m \u001b[0m_set_entities\u001b[0m\u001b[0;34m(\u001b[0m\u001b[0mself\u001b[0m\u001b[0;34m,\u001b[0m \u001b[0mentities\u001b[0m\u001b[0;34m,\u001b[0m \u001b[0mentity_wrapper\u001b[0m\u001b[0;34m=\u001b[0m\u001b[0;32mNone\u001b[0m\u001b[0;34m)\u001b[0m\u001b[0;34m:\u001b[0m\u001b[0;34m\u001b[0m\u001b[0m\n",
      "\u001b[0;32m~/anaconda3/envs/PythonData/lib/python3.6/site-packages/sqlalchemy/orm/query.py\u001b[0m in \u001b[0;36m_set_entities\u001b[0;34m(self, entities, entity_wrapper)\u001b[0m\n\u001b[1;32m    147\u001b[0m         \u001b[0mself\u001b[0m\u001b[0;34m.\u001b[0m\u001b[0m_has_mapper_entities\u001b[0m \u001b[0;34m=\u001b[0m \u001b[0;32mFalse\u001b[0m\u001b[0;34m\u001b[0m\u001b[0m\n\u001b[1;32m    148\u001b[0m         \u001b[0;32mfor\u001b[0m \u001b[0ment\u001b[0m \u001b[0;32min\u001b[0m \u001b[0mutil\u001b[0m\u001b[0;34m.\u001b[0m\u001b[0mto_list\u001b[0m\u001b[0;34m(\u001b[0m\u001b[0mentities\u001b[0m\u001b[0;34m)\u001b[0m\u001b[0;34m:\u001b[0m\u001b[0;34m\u001b[0m\u001b[0m\n\u001b[0;32m--> 149\u001b[0;31m             \u001b[0mentity_wrapper\u001b[0m\u001b[0;34m(\u001b[0m\u001b[0mself\u001b[0m\u001b[0;34m,\u001b[0m \u001b[0ment\u001b[0m\u001b[0;34m)\u001b[0m\u001b[0;34m\u001b[0m\u001b[0m\n\u001b[0m\u001b[1;32m    150\u001b[0m \u001b[0;34m\u001b[0m\u001b[0m\n\u001b[1;32m    151\u001b[0m         \u001b[0mself\u001b[0m\u001b[0;34m.\u001b[0m\u001b[0m_set_entity_selectables\u001b[0m\u001b[0;34m(\u001b[0m\u001b[0mself\u001b[0m\u001b[0;34m.\u001b[0m\u001b[0m_entities\u001b[0m\u001b[0;34m)\u001b[0m\u001b[0;34m\u001b[0m\u001b[0m\n",
      "\u001b[0;32m~/anaconda3/envs/PythonData/lib/python3.6/site-packages/sqlalchemy/orm/query.py\u001b[0m in \u001b[0;36m__init__\u001b[0;34m(self, query, column, namespace)\u001b[0m\n\u001b[1;32m   3993\u001b[0m             raise sa_exc.InvalidRequestError(\n\u001b[1;32m   3994\u001b[0m                 \u001b[0;34m\"SQL expression, column, or mapped entity \"\u001b[0m\u001b[0;34m\u001b[0m\u001b[0m\n\u001b[0;32m-> 3995\u001b[0;31m                 \u001b[0;34m\"expected - got '%r'\"\u001b[0m \u001b[0;34m%\u001b[0m \u001b[0;34m(\u001b[0m\u001b[0mcolumn\u001b[0m\u001b[0;34m,\u001b[0m \u001b[0;34m)\u001b[0m\u001b[0;34m\u001b[0m\u001b[0m\n\u001b[0m\u001b[1;32m   3996\u001b[0m             )\n\u001b[1;32m   3997\u001b[0m         \u001b[0;32melif\u001b[0m \u001b[0;32mnot\u001b[0m \u001b[0mcheck_column\u001b[0m\u001b[0;34m:\u001b[0m\u001b[0;34m\u001b[0m\u001b[0m\n",
      "\u001b[0;31mInvalidRequestError\u001b[0m: SQL expression, column, or mapped entity expected - got '[<__main__.Contracts object at 0x10415bf98>, <__main__.Contracts object at 0x104169048>, <__main__.Contracts object at 0x1041690b8>, <__main__.Contracts object at 0x104169128>, <__main__.Contracts object at 0x104169198>, <__main__.Contracts object at 0x104169208>, <__main__.Contracts object at 0x104169278>, <__main__.Contracts object at 0x1041692e8>, <__main__.Contracts object at 0x104169358>, <__main__.Contracts object at 0x1041693c8>, <__main__.Contracts object at 0x104169470>, <__main__.Contracts object at 0x104169518>, <__main__.Contracts object at 0x1041695c0>, <__main__.Contracts object at 0x104169668>, <__main__.Contracts object at 0x104169710>, <__main__.Contracts object at 0x1041697b8>, <__main__.Contracts object at 0x104169860>, <__main__.Contracts object at 0x104169908>, <__main__.Contracts object at 0x1041699b0>, <__main__.Contracts object at 0x104169a58>]'"
     ]
    }
   ],
   "source": [
    "Top = session.query(Contracts).limit(10).all()"
   ]
  },
  {
   "cell_type": "code",
   "execution_count": null,
   "metadata": {},
   "outputs": [],
   "source": []
  }
 ],
 "metadata": {
  "kernelspec": {
   "display_name": "Python [conda env:PythonData]",
   "language": "python",
   "name": "conda-env-PythonData-py"
  },
  "language_info": {
   "codemirror_mode": {
    "name": "ipython",
    "version": 3
   },
   "file_extension": ".py",
   "mimetype": "text/x-python",
   "name": "python",
   "nbconvert_exporter": "python",
   "pygments_lexer": "ipython3",
   "version": "3.6.4"
  }
 },
 "nbformat": 4,
 "nbformat_minor": 2
}
